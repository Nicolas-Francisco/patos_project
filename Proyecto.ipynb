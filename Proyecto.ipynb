{
  "cells": [
    {
      "cell_type": "code",
      "execution_count": 3,
      "metadata": {
        "id": "GiMGhws9dk3C"
      },
      "outputs": [],
      "source": [
        "import pandas as pd\n",
        "import numpy as np\n",
        "from datetime import datetime"
      ]
    },
    {
      "cell_type": "code",
      "execution_count": 4,
      "metadata": {
        "colab": {
          "base_uri": "https://localhost:8080/",
          "height": 187
        },
        "id": "8SDLv6XUdk3M",
        "outputId": "ab8589e1-8276-4cfb-b67f-3b9b71731d1e"
      },
      "outputs": [],
      "source": [
        "traffic_accidents = pd.read_csv(\"US_Accidents_Dec21_updated.csv\")"
      ]
    },
    {
      "cell_type": "code",
      "execution_count": null,
      "metadata": {},
      "outputs": [
        {
          "data": {
            "text/html": [
              "<div>\n",
              "<style scoped>\n",
              "    .dataframe tbody tr th:only-of-type {\n",
              "        vertical-align: middle;\n",
              "    }\n",
              "\n",
              "    .dataframe tbody tr th {\n",
              "        vertical-align: top;\n",
              "    }\n",
              "\n",
              "    .dataframe thead th {\n",
              "        text-align: right;\n",
              "    }\n",
              "</style>\n",
              "<table border=\"1\" class=\"dataframe\">\n",
              "  <thead>\n",
              "    <tr style=\"text-align: right;\">\n",
              "      <th></th>\n",
              "      <th>ID</th>\n",
              "      <th>Severity</th>\n",
              "      <th>Start_Time</th>\n",
              "      <th>State</th>\n",
              "      <th>Visibility(mi)</th>\n",
              "    </tr>\n",
              "  </thead>\n",
              "  <tbody>\n",
              "    <tr>\n",
              "      <th>0</th>\n",
              "      <td>A-1</td>\n",
              "      <td>3</td>\n",
              "      <td>2016-02-08 00:37:08</td>\n",
              "      <td>OH</td>\n",
              "      <td>10.0</td>\n",
              "    </tr>\n",
              "    <tr>\n",
              "      <th>1</th>\n",
              "      <td>A-2</td>\n",
              "      <td>2</td>\n",
              "      <td>2016-02-08 05:56:20</td>\n",
              "      <td>OH</td>\n",
              "      <td>10.0</td>\n",
              "    </tr>\n",
              "    <tr>\n",
              "      <th>2</th>\n",
              "      <td>A-3</td>\n",
              "      <td>2</td>\n",
              "      <td>2016-02-08 06:15:39</td>\n",
              "      <td>OH</td>\n",
              "      <td>10.0</td>\n",
              "    </tr>\n",
              "    <tr>\n",
              "      <th>3</th>\n",
              "      <td>A-4</td>\n",
              "      <td>2</td>\n",
              "      <td>2016-02-08 06:51:45</td>\n",
              "      <td>OH</td>\n",
              "      <td>10.0</td>\n",
              "    </tr>\n",
              "    <tr>\n",
              "      <th>4</th>\n",
              "      <td>A-5</td>\n",
              "      <td>3</td>\n",
              "      <td>2016-02-08 07:53:43</td>\n",
              "      <td>OH</td>\n",
              "      <td>10.0</td>\n",
              "    </tr>\n",
              "    <tr>\n",
              "      <th>5</th>\n",
              "      <td>A-6</td>\n",
              "      <td>2</td>\n",
              "      <td>2016-02-08 08:16:57</td>\n",
              "      <td>OH</td>\n",
              "      <td>10.0</td>\n",
              "    </tr>\n",
              "    <tr>\n",
              "      <th>6</th>\n",
              "      <td>A-7</td>\n",
              "      <td>2</td>\n",
              "      <td>2016-02-08 08:15:41</td>\n",
              "      <td>OH</td>\n",
              "      <td>3.0</td>\n",
              "    </tr>\n",
              "    <tr>\n",
              "      <th>7</th>\n",
              "      <td>A-8</td>\n",
              "      <td>2</td>\n",
              "      <td>2016-02-08 11:51:46</td>\n",
              "      <td>OH</td>\n",
              "      <td>0.5</td>\n",
              "    </tr>\n",
              "    <tr>\n",
              "      <th>8</th>\n",
              "      <td>A-9</td>\n",
              "      <td>2</td>\n",
              "      <td>2016-02-08 14:19:57</td>\n",
              "      <td>OH</td>\n",
              "      <td>10.0</td>\n",
              "    </tr>\n",
              "    <tr>\n",
              "      <th>9</th>\n",
              "      <td>A-10</td>\n",
              "      <td>2</td>\n",
              "      <td>2016-02-08 15:16:43</td>\n",
              "      <td>OH</td>\n",
              "      <td>0.5</td>\n",
              "    </tr>\n",
              "  </tbody>\n",
              "</table>\n",
              "</div>"
            ],
            "text/plain": [
              "     ID  Severity           Start_Time State  Visibility(mi)\n",
              "0   A-1         3  2016-02-08 00:37:08    OH            10.0\n",
              "1   A-2         2  2016-02-08 05:56:20    OH            10.0\n",
              "2   A-3         2  2016-02-08 06:15:39    OH            10.0\n",
              "3   A-4         2  2016-02-08 06:51:45    OH            10.0\n",
              "4   A-5         3  2016-02-08 07:53:43    OH            10.0\n",
              "5   A-6         2  2016-02-08 08:16:57    OH            10.0\n",
              "6   A-7         2  2016-02-08 08:15:41    OH             3.0\n",
              "7   A-8         2  2016-02-08 11:51:46    OH             0.5\n",
              "8   A-9         2  2016-02-08 14:19:57    OH            10.0\n",
              "9  A-10         2  2016-02-08 15:16:43    OH             0.5"
            ]
          },
          "execution_count": 43,
          "metadata": {},
          "output_type": "execute_result"
        }
      ],
      "source": [
        "db = traffic_accidents[['ID', 'Severity', 'Start_Time', 'State']]"
      ]
    },
    {
      "cell_type": "code",
      "execution_count": null,
      "metadata": {},
      "outputs": [
        {
          "ename": "NameError",
          "evalue": "name 'db' is not defined",
          "output_type": "error",
          "traceback": [
            "\u001b[1;31m---------------------------------------------------------------------------\u001b[0m",
            "\u001b[1;31mNameError\u001b[0m                                 Traceback (most recent call last)",
            "\u001b[1;32mc:\\Users\\javie\\Desktop\\Proyecto Patos\\Proyecto.ipynb Cell 6'\u001b[0m in \u001b[0;36m<cell line: 23>\u001b[1;34m()\u001b[0m\n\u001b[0;32m      <a href='vscode-notebook-cell:/c%3A/Users/javie/Desktop/Proyecto%20Patos/Proyecto.ipynb#ch0000005?line=0'>1</a>\u001b[0m \u001b[39m# for x in db[['Start_Time']].iterrows():\u001b[39;00m\n\u001b[0;32m      <a href='vscode-notebook-cell:/c%3A/Users/javie/Desktop/Proyecto%20Patos/Proyecto.ipynb#ch0000005?line=1'>2</a>\u001b[0m \u001b[39m#     lambda x : datetime.strptime(x, '%y-%m-%d %H:%M:%S'))\u001b[39;00m\n\u001b[0;32m      <a href='vscode-notebook-cell:/c%3A/Users/javie/Desktop/Proyecto%20Patos/Proyecto.ipynb#ch0000005?line=2'>3</a>\u001b[0m \u001b[39m# db.head(10)\u001b[39;00m\n\u001b[1;32m   (...)\u001b[0m\n\u001b[0;32m     <a href='vscode-notebook-cell:/c%3A/Users/javie/Desktop/Proyecto%20Patos/Proyecto.ipynb#ch0000005?line=20'>21</a>\u001b[0m \n\u001b[0;32m     <a href='vscode-notebook-cell:/c%3A/Users/javie/Desktop/Proyecto%20Patos/Proyecto.ipynb#ch0000005?line=21'>22</a>\u001b[0m \u001b[39m# db['Start_Time'] = db['Start_Time'].apply(lambda x : datetime.strptime(x, '%Y-%m-%d %H:%M:%S'))\u001b[39;00m\n\u001b[1;32m---> <a href='vscode-notebook-cell:/c%3A/Users/javie/Desktop/Proyecto%20Patos/Proyecto.ipynb#ch0000005?line=22'>23</a>\u001b[0m db[\u001b[39m'\u001b[39m\u001b[39mStart_Time\u001b[39m\u001b[39m'\u001b[39m] \u001b[39m=\u001b[39m pd\u001b[39m.\u001b[39mto_datetime(db[\u001b[39m'\u001b[39m\u001b[39mStart_Time\u001b[39m\u001b[39m'\u001b[39m])\n",
            "\u001b[1;31mNameError\u001b[0m: name 'db' is not defined"
          ]
        }
      ],
      "source": [
        "export_csv = db.to_csv('export_csv.csv', index=None, header=True)"
      ]
    }
  ],
  "metadata": {
    "colab": {
      "name": "Proyecto.ipynb",
      "provenance": []
    },
    "kernelspec": {
      "display_name": "Python 3.10.5 64-bit (windows store)",
      "language": "python",
      "name": "python3"
    },
    "language_info": {
      "codemirror_mode": {
        "name": "ipython",
        "version": 3
      },
      "file_extension": ".py",
      "mimetype": "text/x-python",
      "name": "python",
      "nbconvert_exporter": "python",
      "pygments_lexer": "ipython3",
      "version": "3.10.5"
    },
    "vscode": {
      "interpreter": {
        "hash": "ffd0075ae673685687c82719455e2f8f8c30424d4fbd943de908feee38ee36fb"
      }
    }
  },
  "nbformat": 4,
  "nbformat_minor": 0
}
